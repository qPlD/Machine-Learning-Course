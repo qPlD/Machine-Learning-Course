{
 "cells": [
  {
   "cell_type": "code",
   "execution_count": 1,
   "metadata": {},
   "outputs": [],
   "source": [
    "import numpy as np\n",
    "import matplotlib.pyplot as plt\n",
    "\n",
    "\n",
    "from sklearn.ensemble import ExtraTreesClassifier\n",
    "from sklearn.decomposition import PCA\n",
    "from sklearn.feature_selection import VarianceThreshold\n",
    "from sklearn.model_selection import GridSearchCV\n",
    "from sklearn.model_selection import train_test_split\n",
    "from sklearn.preprocessing import StandardScaler\n",
    "from sklearn.linear_model import LogisticRegression\n",
    "from sklearn.metrics import accuracy_score\n",
    "from sklearn.metrics import average_precision_score\n",
    "from sklearn.metrics import f1_score\n",
    "from sklearn.metrics import precision_score\n",
    "from sklearn.metrics import recall_score\n",
    "from sklearn.pipeline import Pipeline\n",
    "import warnings\n",
    "# We silence warnings concerning future version updates\n",
    "warnings.simplefilter(action='ignore', category=FutureWarning)\n",
    "warnings.simplefilter(action='ignore', category=DeprecationWarning)"
   ]
  },
  {
   "cell_type": "code",
   "execution_count": 2,
   "metadata": {},
   "outputs": [],
   "source": [
    "# Load training and testing data\n",
    "X_train = np.loadtxt('X_train.csv', delimiter=',', skiprows=1)\n",
    "X_test = np.loadtxt('X_test.csv', delimiter=',', skiprows=1)\n",
    "y_train = np.loadtxt('y_train.csv', delimiter=',', skiprows=1)[:, 1]"
   ]
  },
  {
   "cell_type": "code",
   "execution_count": 3,
   "metadata": {},
   "outputs": [],
   "source": [
    "# Arrange answer in two columns. First column (with header \"Id\") is an\n",
    "# enumeration from 0 to n-1, where n is the number of test points. Second\n",
    "# column (with header \"EpiOrStroma\" is the predictions.\n",
    "def saveFile(y_pred,name):\n",
    "    test_header = \"Id,EpiOrStroma\"\n",
    "    n_points = X_test.shape[0]\n",
    "    y_pred_pp = np.ones((n_points, 2))\n",
    "    y_pred_pp[:, 0] = range(n_points)\n",
    "    y_pred_pp[:, 1] = y_pred\n",
    "    np.savetxt(name, y_pred_pp, fmt='%d', delimiter=\",\",\n",
    "               header=test_header, comments=\"\")\n",
    "\n",
    "\n",
    "# Function used to preprocess the data with the Standard Scaler\n",
    "def scalingFunction(X_train,X_test):\n",
    "    sc = StandardScaler()\n",
    "\n",
    "    X_train_scaled = sc.fit_transform(X_train)\n",
    "    X_test_scaled = sc.fit_transform(X_test)\n",
    "    return(X_train_scaled,X_test_scaled)\n",
    "\n",
    "# GridSearch function for Logistic Classifier. Parameter Grid refined after testing.\n",
    "def gridSearch(trainData,y_train):\n",
    "    \n",
    "    #Creating the Random Grid\n",
    "    pipe = Pipeline([('classifier' , LogisticRegression())])\n",
    "\n",
    "    param_grid = [\n",
    "        {'classifier' : [LogisticRegression()],\n",
    "         'classifier__penalty' : ['l1', 'l2'],\n",
    "        'classifier__C' : np.logspace(-4, 4, 20),\n",
    "        'classifier__solver' : ['liblinear', 'saga'],\n",
    "        'classifier__max_iter' : [2,5,10,15,25,50,100,150,200]},\n",
    "    ]\n",
    "\n",
    "    clf = GridSearchCV(pipe, param_grid = param_grid, cv = 10, verbose=True, n_jobs=-1)\n",
    "    best_clf = clf.fit(trainData, y_train)\n",
    "\n",
    "    return(best_clf)"
   ]
  },
  {
   "cell_type": "code",
   "execution_count": 4,
   "metadata": {},
   "outputs": [],
   "source": [
    "# Feature Selection for most important features\n",
    "\n",
    "def featSelectERT(X_train,X_test,y_train,numberSelectedFeatures):\n",
    "    #Method 1: Extremely randomised trees\n",
    "    model = ExtraTreesClassifier()\n",
    "    model.fit(X_train,y_train)\n",
    "    # Selection and sorting of most important features.\n",
    "    feat_scores = model.feature_importances_\n",
    "    feat_indexes = np.argsort(feat_scores)\n",
    "    top_indexes = feat_indexes[:numberSelectedFeatures]\n",
    "    print(\"Selected\",numberSelectedFeatures,\"most important features with Extremely Randomised Trees.\")\n",
    "    # Creating new X_train and X_test sets with selected features\n",
    "    X_train_M1 = np.empty([len(X_train),len(top_indexes)])\n",
    "    X_test_M1 = np.empty([len(X_test),len(top_indexes)])\n",
    "    counter = 0\n",
    "    for index in top_indexes:\n",
    "        X_train_M1[:,counter] = X_train[:,index]\n",
    "        X_test_M1[:,counter] = X_test[:,index]\n",
    "        counter += 1\n",
    "    return(X_train_M1,X_test_M1)\n",
    "\n",
    "def featReducPCA(X_train,X_test,numberSelectedFeatures):\n",
    "    #Method 2: PCA reduction\n",
    "    pca = PCA(n_components=numberSelectedFeatures)\n",
    "    X_train_M2 = pca.fit_transform(X_train)\n",
    "    X_test_M2 = pca.fit_transform(X_test)\n",
    "    print(\"Selected\",numberSelectedFeatures,\"most important features with PCA.\")\n",
    "    return(X_train_M2,X_test_M2)\n",
    "\n",
    "def featSelectVariance(X_train,X_test,varThreshold):\n",
    "    #Method 3: Removing features with a variance lower than the given threshold\n",
    "    sel = VarianceThreshold(threshold=(varThreshold * (1 - varThreshold)))\n",
    "    X_train_M3 = sel.fit_transform(X_train)\n",
    "    X_test_M3 = sel.fit_transform(X_test)\n",
    "    print(\"Removed features with variance lower than the\",varThreshold,\"threshold.\")\n",
    "    return(X_train_M3,X_test_M3)"
   ]
  },
  {
   "cell_type": "code",
   "execution_count": 5,
   "metadata": {},
   "outputs": [
    {
     "name": "stdout",
     "output_type": "stream",
     "text": [
      "Parameters currently in use:\n",
      "{'C': 1.0, 'class_weight': None, 'dual': False, 'fit_intercept': True, 'intercept_scaling': 1, 'l1_ratio': None, 'max_iter': 100, 'multi_class': 'warn', 'n_jobs': None, 'penalty': 'l2', 'random_state': None, 'solver': 'warn', 'tol': 0.0001, 'verbose': 0, 'warm_start': False}\n"
     ]
    }
   ],
   "source": [
    "# Logistic Regression Classifier Implementation\n",
    "clf = LogisticRegression().fit(X_train, y_train)\n",
    "print('Parameters currently in use:')\n",
    "print(clf.get_params())"
   ]
  },
  {
   "cell_type": "code",
   "execution_count": 6,
   "metadata": {},
   "outputs": [
    {
     "name": "stdout",
     "output_type": "stream",
     "text": [
      "Selected 85 most important features with Extremely Randomised Trees.\n",
      "Fitting 10 folds for each of 720 candidates, totalling 7200 fits\n"
     ]
    },
    {
     "name": "stderr",
     "output_type": "stream",
     "text": [
      "[Parallel(n_jobs=-1)]: Using backend LokyBackend with 4 concurrent workers.\n",
      "[Parallel(n_jobs=-1)]: Done  42 tasks      | elapsed:    5.0s\n",
      "[Parallel(n_jobs=-1)]: Done 2209 tasks      | elapsed:   12.7s\n",
      "[Parallel(n_jobs=-1)]: Done 6025 tasks      | elapsed:   47.8s\n",
      "[Parallel(n_jobs=-1)]: Done 7200 out of 7200 | elapsed:  1.1min finished\n",
      "C:\\Users\\Quentin\\Anaconda3\\lib\\site-packages\\sklearn\\linear_model\\sag.py:337: ConvergenceWarning: The max_iter was reached which means the coef_ did not converge\n",
      "  \"the coef_ did not converge\", ConvergenceWarning)\n",
      "[Parallel(n_jobs=-1)]: Using backend LokyBackend with 4 concurrent workers.\n"
     ]
    },
    {
     "name": "stdout",
     "output_type": "stream",
     "text": [
      "Selected 85 most important features with PCA.\n",
      "Fitting 10 folds for each of 720 candidates, totalling 7200 fits\n"
     ]
    },
    {
     "name": "stderr",
     "output_type": "stream",
     "text": [
      "[Parallel(n_jobs=-1)]: Done 1660 tasks      | elapsed:    3.8s\n",
      "[Parallel(n_jobs=-1)]: Done 5537 tasks      | elapsed:   23.4s\n",
      "[Parallel(n_jobs=-1)]: Done 7200 out of 7200 | elapsed:   37.3s finished\n",
      "C:\\Users\\Quentin\\Anaconda3\\lib\\site-packages\\sklearn\\linear_model\\sag.py:337: ConvergenceWarning: The max_iter was reached which means the coef_ did not converge\n",
      "  \"the coef_ did not converge\", ConvergenceWarning)\n",
      "[Parallel(n_jobs=-1)]: Using backend LokyBackend with 4 concurrent workers.\n"
     ]
    },
    {
     "name": "stdout",
     "output_type": "stream",
     "text": [
      "Removed features with variance lower than the 0.84 threshold.\n",
      "Fitting 10 folds for each of 720 candidates, totalling 7200 fits\n"
     ]
    },
    {
     "name": "stderr",
     "output_type": "stream",
     "text": [
      "[Parallel(n_jobs=-1)]: Done 960 tasks      | elapsed:    2.7s\n",
      "[Parallel(n_jobs=-1)]: Done 4180 tasks      | elapsed:   19.6s\n",
      "[Parallel(n_jobs=-1)]: Done 7200 out of 7200 | elapsed:   46.4s finished\n",
      "C:\\Users\\Quentin\\Anaconda3\\lib\\site-packages\\sklearn\\linear_model\\sag.py:337: ConvergenceWarning: The max_iter was reached which means the coef_ did not converge\n",
      "  \"the coef_ did not converge\", ConvergenceWarning)\n"
     ]
    }
   ],
   "source": [
    "# Evaluating our model with different feature selection methods, selecting a different number of features.\n",
    "# We have selected precise numbers of features to match the number selected by threshold values\n",
    "\n",
    "# Reduced the number of trials for the sake of time. This should only take a few minutes.\n",
    "featNumbers = [85]#[80,82,85,88,90,92,95,98,100]\n",
    "threshHoldValues = [0.84] #[0.5,0.81,0.84,0.92,0.95,0.96,0.975,0.9895,0.991]\n",
    "\n",
    "FeatSelect1=np.zeros((len(featNumbers),2))\n",
    "FeatSelect2=np.zeros((len(featNumbers),2))\n",
    "FeatSelect3=np.zeros((len(featNumbers),2))\n",
    "\n",
    "# We now build our SVC model with all feature selection methods, for various number of features.\n",
    "# Running GridSearch on all combinations should only take a minute or so.\n",
    "counter = 0\n",
    "for featNumb in featNumbers:\n",
    "    # Selection Method 1\n",
    "    FeatSelect1[counter,0] = featNumb\n",
    "    X_train_M1, X_test_M1 = featSelectERT(X_train,X_test,y_train,featNumb)\n",
    "    X_train_M1, X_test_M1 = scalingFunction(X_train_M1, X_test_M1)\n",
    "    best_LRC_M1 = gridSearch(X_train_M1,y_train)\n",
    "    FeatSelect1[counter,1] = best_LRC_M1.score(X_train_M1, y_train)\n",
    "    \n",
    "    # Selection Method 2\n",
    "    FeatSelect2[counter,0] = featNumb\n",
    "    X_train_M2, X_test_M2 = featReducPCA(X_train,X_test,featNumb)\n",
    "    X_train_M2, X_test_M2 = scalingFunction(X_train_M2, X_test_M2)\n",
    "    best_LRC_M2 = gridSearch(X_train_M2,y_train)\n",
    "    FeatSelect2[counter,1] = best_LRC_M2.score(X_train_M2, y_train)\n",
    "    \n",
    "    counter += 1\n",
    "\n",
    "\n",
    "counter = 0\n",
    "for THValue in threshHoldValues:\n",
    "    # Selection Method 3\n",
    "    X_train_M3, X_test_M3 = featSelectVariance(X_train,X_test,THValue)\n",
    "    X_train_M3, X_test_M3 = scalingFunction(X_train_M3, X_test_M3)\n",
    "    # The feature selection method is different so we get the shape to obtain the number of features\n",
    "    FeatSelect3[counter,0] = X_train_M3.shape[1]\n",
    "    best_LRC_M3 = gridSearch(X_train_M3,y_train)\n",
    "    FeatSelect3[counter,1] = best_LRC_M3.score(X_train_M3, y_train)\n",
    "    \n",
    "    counter += 1\n",
    "\n",
    "#print(FeatSelect1)\n",
    "#print(FeatSelect2)\n",
    "#print(FeatSelect3)"
   ]
  },
  {
   "cell_type": "code",
   "execution_count": 11,
   "metadata": {},
   "outputs": [
    {
     "data": {
      "image/png": "[encoded data removed]",
      "text/plain": [
       "<Figure size 432x288 with 1 Axes>"
      ]
     },
     "metadata": {
      "needs_background": "light"
     },
     "output_type": "display_data"
    }
   ],
   "source": [
    "# Graph will display results from previous step (if it was run)\n",
    "plt.plot(FeatSelect1[:,0],FeatSelect1[:,1],'o--',)\n",
    "plt.plot(FeatSelect2[:,0],FeatSelect2[:,1],'o--',)\n",
    "plt.plot(FeatSelect3[:,0],FeatSelect3[:,1],'o--',)\n",
    "\n",
    "plt.xticks(FeatSelect1[:,0])\n",
    "plt.legend([\"Top Best\",\"PCA\",\"Var Threshold\"], loc='upper center')\n",
    "plt.title(\"Fig 3b - Performance Score of Various Feature Selection Methods (LRC)\")\n",
    "plt.xlabel(\"Number of selected features\")\n",
    "plt.ylabel(\"Performance Score\")\n",
    "plt.show()"
   ]
  },
  {
   "cell_type": "code",
   "execution_count": 41,
   "metadata": {},
   "outputs": [
    {
     "name": "stdout",
     "output_type": "stream",
     "text": [
      "[[ 70.        0.88702]\n",
      " [ 80.        0.89558]\n",
      " [ 85.        0.9205 ]\n",
      " [ 90.        0.89539]\n",
      " [100.        0.88702]\n",
      " [110.        0.89121]]\n",
      "[[ 82.        0.83682]\n",
      " [ 87.        0.841  ]\n",
      " [ 95.        0.8661 ]\n",
      " [109.        0.8661 ]]\n"
     ]
    }
   ],
   "source": [
    "# Actual Kaggle scores obtained for testing previously evaluated methods\n",
    "featNumbersKaggleM1 = [70,80,85,90,100,110]\n",
    "# Training and testing sets did not always have the same shape given the same threshold\n",
    "# We have selected values that generate X_train and X_test sets with the same number of features\n",
    "featNumbersKaggleM3 = [82,87,95,109]\n",
    "\n",
    "Method1Kaggle = np.zeros((6,2))\n",
    "Method3Kaggle = np.zeros((4,2))\n",
    "\n",
    "Method1KaggleScores = [0.88702,0.89558,0.92050,0.89539,0.88702,0.89121]\n",
    "Method3KaggleScores = [0.83682,0.84100,0.86610,0.86610]\n",
    "\n",
    "\n",
    "for i in range(6):\n",
    "    Method1Kaggle[i,0]=featNumbersKaggleM1[i]\n",
    "    Method1Kaggle[i,1]=Method1KaggleScores[i]\n",
    "    \n",
    "    if (i<4):\n",
    "        Method3Kaggle[i,0]=featNumbersKaggleM3[i]\n",
    "        Method3Kaggle[i,1]=Method3KaggleScores[i]\n",
    "    \n",
    "print(Method1Kaggle)\n",
    "print(Method3Kaggle)"
   ]
  },
  {
   "cell_type": "code",
   "execution_count": 51,
   "metadata": {},
   "outputs": [
    {
     "data": {
      "image/png": "[encoded data removed]",
      "text/plain": [
       "<Figure size 432x288 with 1 Axes>"
      ]
     },
     "metadata": {
      "needs_background": "light"
     },
     "output_type": "display_data"
    }
   ],
   "source": [
    "plt.plot(Method1Kaggle[:,0],Method1Kaggle[:,1],'o--',)\n",
    "plt.plot(Method3Kaggle[:,0],Method3Kaggle[:,1],'o--',color='green')\n",
    "\n",
    "plt.legend([\"Top Best\",\"Var Threshold\"], loc='upper right')\n",
    "plt.title(\"Fig 4b - Kaggle Score of Various Feature Selection Methods (LRC)\")\n",
    "plt.xlabel(\"Number of selected features\")\n",
    "plt.ylabel(\"Performance Score\")\n",
    "plt.show()"
   ]
  },
  {
   "cell_type": "code",
   "execution_count": 52,
   "metadata": {},
   "outputs": [
    {
     "name": "stdout",
     "output_type": "stream",
     "text": [
      "Selected 85 most important features with Extremely Randomised Trees.\n",
      "Fitting 10 folds for each of 720 candidates, totalling 7200 fits\n"
     ]
    },
    {
     "name": "stderr",
     "output_type": "stream",
     "text": [
      "[Parallel(n_jobs=-1)]: Using backend LokyBackend with 4 concurrent workers.\n",
      "[Parallel(n_jobs=-1)]: Done 139 tasks      | elapsed:    3.0s\n",
      "[Parallel(n_jobs=-1)]: Done 4915 tasks      | elapsed:   26.8s\n"
     ]
    },
    {
     "name": "stdout",
     "output_type": "stream",
     "text": [
      "GridSearch results: {'classifier': LogisticRegression(C=0.03359818286283781, class_weight=None, dual=False,\n",
      "                   fit_intercept=True, intercept_scaling=1, l1_ratio=None,\n",
      "                   max_iter=10, multi_class='warn', n_jobs=None, penalty='l1',\n",
      "                   random_state=None, solver='saga', tol=0.0001, verbose=0,\n",
      "                   warm_start=False), 'classifier__C': 0.03359818286283781, 'classifier__max_iter': 10, 'classifier__penalty': 'l1', 'classifier__solver': 'saga'}\n",
      "Shape: (200, 85)\n",
      "Score: 0.87\n"
     ]
    },
    {
     "name": "stderr",
     "output_type": "stream",
     "text": [
      "[Parallel(n_jobs=-1)]: Done 7200 out of 7200 | elapsed:   50.2s finished\n",
      "C:\\Users\\Quentin\\Anaconda3\\lib\\site-packages\\sklearn\\linear_model\\sag.py:337: ConvergenceWarning: The max_iter was reached which means the coef_ did not converge\n",
      "  \"the coef_ did not converge\", ConvergenceWarning)\n"
     ]
    }
   ],
   "source": [
    "# Selection of feature selection method and number based on results - LRC\n",
    "# This will produce our predictions with the most potential to be submitted (not highest score).\n",
    "# Top Most Important Features: Selection Method 1 \n",
    "X_train_final, X_test_final = featSelectERT(X_train,X_test,y_train,85)\n",
    "X_train_final, X_test_final = scalingFunction(X_train_final, X_test_final)\n",
    "# The feature selection method is different so we get the shape to obtain the number of features\n",
    "best_SVC_final = gridSearch(X_train_final,y_train)\n",
    "print(\"GridSearch results:\",best_SVC_final.best_params_)\n",
    "print(\"Shape:\",X_train_final.shape)\n",
    "print(\"Score:\",best_SVC_final.score(X_train_final, y_train))\n",
    "y_pred_submitted = best_SVC_final.predict(X_test_final)\n",
    "#saveFile(y_pred_submitted,\"finalLRC.csv\")"
   ]
  },
  {
   "cell_type": "code",
   "execution_count": 53,
   "metadata": {},
   "outputs": [
    {
     "name": "stdout",
     "output_type": "stream",
     "text": [
      "training samples:  160\n",
      "testing samples:  40\n",
      "Selected 85 most important features with Extremely Randomised Trees.\n",
      "Fitting 10 folds for each of 720 candidates, totalling 7200 fits\n"
     ]
    },
    {
     "name": "stderr",
     "output_type": "stream",
     "text": [
      "[Parallel(n_jobs=-1)]: Using backend LokyBackend with 4 concurrent workers.\n",
      "[Parallel(n_jobs=-1)]: Done 872 tasks      | elapsed:    2.0s\n",
      "[Parallel(n_jobs=-1)]: Done 4472 tasks      | elapsed:   14.9s\n"
     ]
    },
    {
     "name": "stdout",
     "output_type": "stream",
     "text": [
      "GridSearch results: {'classifier': LogisticRegression(C=0.08858667904100823, class_weight=None, dual=False,\n",
      "                   fit_intercept=True, intercept_scaling=1, l1_ratio=None,\n",
      "                   max_iter=2, multi_class='warn', n_jobs=None, penalty='l1',\n",
      "                   random_state=None, solver='liblinear', tol=0.0001, verbose=0,\n",
      "                   warm_start=False), 'classifier__C': 0.08858667904100823, 'classifier__max_iter': 2, 'classifier__penalty': 'l1', 'classifier__solver': 'liblinear'}\n",
      "Shape: (160, 85)\n",
      "Score: 0.83125\n"
     ]
    },
    {
     "name": "stderr",
     "output_type": "stream",
     "text": [
      "[Parallel(n_jobs=-1)]: Done 7200 out of 7200 | elapsed:   35.1s finished\n",
      "C:\\Users\\Quentin\\Anaconda3\\lib\\site-packages\\sklearn\\svm\\base.py:929: ConvergenceWarning: Liblinear failed to converge, increase the number of iterations.\n",
      "  \"the number of iterations.\", ConvergenceWarning)\n"
     ]
    }
   ],
   "source": [
    "# In-Depth Evaluation of most promising combinations for SVC: \n",
    "#we need to split the data for further evaluation of our model\n",
    "X_trainSPLIT, X_testSPLIT, y_trainSPLIT, y_testSPLIT = train_test_split(X_train,y_train,test_size=0.2,random_state=0)\n",
    "\n",
    "print(\"training samples: \", len(X_trainSPLIT))\n",
    "print(\"testing samples: \", len(X_testSPLIT))\n",
    "\n",
    "new_X_train, new_X_test = featSelectERT(X_trainSPLIT,X_testSPLIT,y_trainSPLIT,85)\n",
    "new_X_train, new_X_test = scalingFunction(new_X_train, new_X_test)\n",
    "LRC_eval = gridSearch(new_X_train,y_trainSPLIT)\n",
    "print(\"GridSearch results:\",LRC_eval.best_params_)\n",
    "print(\"Shape:\",new_X_train.shape)\n",
    "print(\"Score:\",LRC_eval.score(new_X_train, y_trainSPLIT))\n",
    "y_pred = LRC_eval.predict(new_X_test)\n",
    "#saveFile(y_pred,\"testSVC.csv\")"
   ]
  },
  {
   "cell_type": "code",
   "execution_count": 55,
   "metadata": {},
   "outputs": [
    {
     "name": "stdout",
     "output_type": "stream",
     "text": [
      "Accuracy of selected SVC Model: 0.9\n",
      "F1 Score of selected SVC Model: 0.8749999999999999\n",
      "Precision of selected SVC Model: 0.8235294117647058\n",
      "Recall of selected SVC Model: 0.9333333333333333\n"
     ]
    }
   ],
   "source": [
    "# Computing Final Evaluation Metrics for selected Model\n",
    "print(\"Accuracy of selected SVC Model:\",accuracy_score(y_testSPLIT,y_pred))\n",
    "print(\"F1 Score of selected SVC Model:\",f1_score(y_testSPLIT,y_pred))\n",
    "print(\"Precision of selected SVC Model:\",precision_score(y_testSPLIT,y_pred))\n",
    "print(\"Recall of selected SVC Model:\",recall_score(y_testSPLIT,y_pred))"
   ]
  }
 ],
 "metadata": {
  "kernelspec": {
   "display_name": "Python 3",
   "language": "python",
   "name": "python3"
  },
  "language_info": {
   "codemirror_mode": {
    "name": "ipython",
    "version": 3
   },
   "file_extension": ".py",
   "mimetype": "text/x-python",
   "name": "python",
   "nbconvert_exporter": "python",
   "pygments_lexer": "ipython3",
   "version": "3.7.4"
  }
 },
 "nbformat": 4,
 "nbformat_minor": 2
}
