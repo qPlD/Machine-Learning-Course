{
 "cells": [
  {
   "cell_type": "code",
   "execution_count": 1,
   "metadata": {},
   "outputs": [],
   "source": [
    "import numpy as np\n",
    "import matplotlib.pyplot as plt\n",
    "\n",
    "from sklearn.ensemble import ExtraTreesClassifier\n",
    "from sklearn.decomposition import PCA\n",
    "from sklearn.feature_selection import VarianceThreshold\n",
    "from sklearn.model_selection import GridSearchCV\n",
    "from sklearn.model_selection import train_test_split\n",
    "from sklearn.preprocessing import StandardScaler\n",
    "from sklearn.svm import SVC\n",
    "from sklearn.metrics import accuracy_score\n",
    "from sklearn.metrics import average_precision_score\n",
    "from sklearn.metrics import f1_score\n",
    "from sklearn.metrics import precision_score\n",
    "from sklearn.metrics import recall_score\n",
    "import warnings\n",
    "# We silence warnings concerning future version updates\n",
    "warnings.simplefilter(action='ignore', category=FutureWarning)\n",
    "warnings.simplefilter(action='ignore', category=DeprecationWarning)"
   ]
  },
  {
   "cell_type": "code",
   "execution_count": 2,
   "metadata": {},
   "outputs": [],
   "source": [
    "# Load training and testing data\n",
    "X_train = np.loadtxt('X_train.csv', delimiter=',', skiprows=1)\n",
    "X_test = np.loadtxt('X_test.csv', delimiter=',', skiprows=1)\n",
    "y_train = np.loadtxt('y_train.csv', delimiter=',', skiprows=1)[:, 1]"
   ]
  },
  {
   "cell_type": "code",
   "execution_count": 3,
   "metadata": {},
   "outputs": [],
   "source": [
    "# Arrange answer in two columns. First column (with header \"Id\") is an\n",
    "# enumeration from 0 to n-1, where n is the number of test points. Second\n",
    "# column (with header \"EpiOrStroma\" is the predictions.\n",
    "def saveFile(y_pred,name):\n",
    "    test_header = \"Id,EpiOrStroma\"\n",
    "    n_points = X_test.shape[0]\n",
    "    y_pred_pp = np.ones((n_points, 2))\n",
    "    y_pred_pp[:, 0] = range(n_points)\n",
    "    y_pred_pp[:, 1] = y_pred\n",
    "    np.savetxt(name, y_pred_pp, fmt='%d', delimiter=\",\",\n",
    "               header=test_header, comments=\"\")\n",
    "\n",
    "\n",
    "# Function used to preprocess the data with the Standard Scaler\n",
    "def scalingFunction(X_train,X_test):\n",
    "    sc = StandardScaler()\n",
    "\n",
    "    X_train_scaled = sc.fit_transform(X_train)\n",
    "    X_test_scaled = sc.fit_transform(X_test)\n",
    "    return(X_train_scaled,X_test_scaled)\n",
    "\n",
    "# GridSearch function for SVC. Parameter Grid refined after testing.\n",
    "def gridSearch(trainData,y_train):\n",
    "    \n",
    "    param_grid = [\n",
    "        {'kernel' : ['linear','rbf'],\n",
    "         'gamma' :[1,0.1,0.001,0.0001],\n",
    "         'C' : [0.0001, 0.001,0.01, 0.1, 1, 10, 100, 1000]},\n",
    "    ]\n",
    "\n",
    "    svcGrid = GridSearchCV(SVC(),param_grid,cv=10,refit = True)\n",
    "    best_svc = svcGrid.fit(trainData, y_train)\n",
    "    return(best_svc)"
   ]
  },
  {
   "cell_type": "code",
   "execution_count": 4,
   "metadata": {},
   "outputs": [],
   "source": [
    "# Feature Selection for most important features\n",
    "\n",
    "def featSelectERT(X_train,X_test,y_train,numberSelectedFeatures):\n",
    "    #Method 1: Extremely randomised trees\n",
    "    model = ExtraTreesClassifier()\n",
    "    model.fit(X_train,y_train)\n",
    "    # Selection and sorting of most important features.\n",
    "    feat_scores = model.feature_importances_\n",
    "    feat_indexes = np.argsort(feat_scores)\n",
    "    top_indexes = feat_indexes[:numberSelectedFeatures]\n",
    "    print(\"Selected\",numberSelectedFeatures,\"most important features with Extremely Randomised Trees.\")\n",
    "    # Creating new X_train and X_test sets with selected features\n",
    "    X_train_M1 = np.empty([len(X_train),len(top_indexes)])\n",
    "    X_test_M1 = np.empty([len(X_test),len(top_indexes)])\n",
    "    counter = 0\n",
    "    for index in top_indexes:\n",
    "        X_train_M1[:,counter] = X_train[:,index]\n",
    "        X_test_M1[:,counter] = X_test[:,index]\n",
    "        counter += 1\n",
    "    return(X_train_M1,X_test_M1)\n",
    "\n",
    "def featReducPCA(X_train,X_test,numberSelectedFeatures):\n",
    "    #Method 2: PCA reduction\n",
    "    pca = PCA(n_components=numberSelectedFeatures)\n",
    "    X_train_M2 = pca.fit_transform(X_train)\n",
    "    X_test_M2 = pca.fit_transform(X_test)\n",
    "    print(\"Selected\",numberSelectedFeatures,\"most important features with PCA.\")\n",
    "    return(X_train_M2,X_test_M2)\n",
    "\n",
    "def featSelectVariance(X_train,X_test,varThreshold):\n",
    "    #Method 3: Removing features with a variance lower than the given threshold\n",
    "    sel = VarianceThreshold(threshold=(varThreshold * (1 - varThreshold)))\n",
    "    X_train_M3 = sel.fit_transform(X_train)\n",
    "    X_test_M3 = sel.fit_transform(X_test)\n",
    "    print(\"Removed features with variance lower than the\",varThreshold,\"threshold.\")\n",
    "    return(X_train_M3,X_test_M3)"
   ]
  },
  {
   "cell_type": "code",
   "execution_count": 5,
   "metadata": {},
   "outputs": [
    {
     "name": "stdout",
     "output_type": "stream",
     "text": [
      "Parameters currently in use:\n",
      "{'C': 1.0, 'cache_size': 200, 'class_weight': None, 'coef0': 0.0, 'decision_function_shape': 'ovr', 'degree': 3, 'gamma': 'auto_deprecated', 'kernel': 'rbf', 'max_iter': -1, 'probability': False, 'random_state': None, 'shrinking': True, 'tol': 0.001, 'verbose': False}\n"
     ]
    }
   ],
   "source": [
    "# SVC Classifier Implementation\n",
    "svc = SVC().fit(X_train,y_train)\n",
    "print('Parameters currently in use:')\n",
    "print(svc.get_params())"
   ]
  },
  {
   "cell_type": "code",
   "execution_count": 6,
   "metadata": {},
   "outputs": [
    {
     "name": "stdout",
     "output_type": "stream",
     "text": [
      "Selected 80 most important features with Extremely Randomised Trees.\n",
      "Selected 80 most important features with PCA.\n",
      "Selected 82 most important features with Extremely Randomised Trees.\n",
      "Selected 82 most important features with PCA.\n",
      "Selected 85 most important features with Extremely Randomised Trees.\n",
      "Selected 85 most important features with PCA.\n",
      "Selected 88 most important features with Extremely Randomised Trees.\n",
      "Selected 88 most important features with PCA.\n",
      "Selected 90 most important features with Extremely Randomised Trees.\n",
      "Selected 90 most important features with PCA.\n",
      "Selected 92 most important features with Extremely Randomised Trees.\n",
      "Selected 92 most important features with PCA.\n",
      "Selected 95 most important features with Extremely Randomised Trees.\n",
      "Selected 95 most important features with PCA.\n",
      "Selected 98 most important features with Extremely Randomised Trees.\n",
      "Selected 98 most important features with PCA.\n",
      "Selected 100 most important features with Extremely Randomised Trees.\n",
      "Selected 100 most important features with PCA.\n",
      "Removed features with variance lower than the 0.5 threshold.\n",
      "Removed features with variance lower than the 0.81 threshold.\n",
      "Removed features with variance lower than the 0.84 threshold.\n",
      "Removed features with variance lower than the 0.92 threshold.\n",
      "Removed features with variance lower than the 0.95 threshold.\n",
      "Removed features with variance lower than the 0.96 threshold.\n",
      "Removed features with variance lower than the 0.975 threshold.\n",
      "Removed features with variance lower than the 0.9895 threshold.\n",
      "Removed features with variance lower than the 0.991 threshold.\n"
     ]
    }
   ],
   "source": [
    "# Evaluating our model with different feature selection methods, selecting a different number of features.\n",
    "# We have selected precise numbers of features to match the number selected by threshold values\n",
    "# It is only useful to run this cell for the following graph (evaluation purposes)\n",
    "featNumbers = [80,82,85,88,90,92,95,98,100]\n",
    "threshHoldValues = [0.5,0.81,0.84,0.92,0.95,0.96,0.975,0.9895,0.991]\n",
    "\n",
    "FeatSelect1=np.zeros((len(featNumbers),2))\n",
    "FeatSelect2=np.zeros((len(featNumbers),2))\n",
    "FeatSelect3=np.zeros((len(featNumbers),2))\n",
    "\n",
    "# We now build our SVC model with all feature selection methods, for various number of features.\n",
    "# Running GridSearch on all combinations should only take a minute or so.\n",
    "counter = 0\n",
    "for featNumb in featNumbers:\n",
    "    # Selection Method 1\n",
    "    FeatSelect1[counter,0] = featNumb\n",
    "    X_train_M1, X_test_M1 = featSelectERT(X_train,X_test,y_train,featNumb)\n",
    "    X_train_M1, X_test_M1 = scalingFunction(X_train_M1, X_test_M1)\n",
    "    best_SVC_M1 = gridSearch(X_train_M1,y_train)\n",
    "    FeatSelect1[counter,1] = best_SVC_M1.score(X_train_M1, y_train)\n",
    "    \n",
    "    # Selection Method 2\n",
    "    FeatSelect2[counter,0] = featNumb\n",
    "    X_train_M2, X_test_M2 = featReducPCA(X_train,X_test,featNumb)\n",
    "    X_train_M2, X_test_M2 = scalingFunction(X_train_M2, X_test_M2)\n",
    "    best_SVC_M2 = gridSearch(X_train_M2,y_train)\n",
    "    FeatSelect2[counter,1] = best_SVC_M2.score(X_train_M2, y_train)\n",
    "    \n",
    "    counter += 1\n",
    "\n",
    "\n",
    "counter = 0\n",
    "for THValue in threshHoldValues:\n",
    "    # Selection Method 3\n",
    "    X_train_M3, X_test_M3 = featSelectVariance(X_train,X_test,THValue)\n",
    "    X_train_M3, X_test_M3 = scalingFunction(X_train_M3, X_test_M3)\n",
    "    # The feature selection method is different so we get the shape to obtain the number of features\n",
    "    FeatSelect3[counter,0] = X_train_M3.shape[1]\n",
    "    best_SVC_M3 = gridSearch(X_train_M3,y_train)\n",
    "    FeatSelect3[counter,1] = best_SVC_M3.score(X_train_M3, y_train)\n",
    "    \n",
    "    counter += 1\n",
    "\n",
    "#print(FeatSelect1)\n",
    "#print(FeatSelect2)\n",
    "#print(FeatSelect3)"
   ]
  },
  {
   "cell_type": "code",
   "execution_count": 7,
   "metadata": {},
   "outputs": [
    {
     "data": {
      "image/png": "[encoded data removed]",
      "text/plain": [
       "<Figure size 432x288 with 1 Axes>"
      ]
     },
     "metadata": {
      "needs_background": "light"
     },
     "output_type": "display_data"
    }
   ],
   "source": [
    "# Visualisation of results for the initial evaluation\n",
    "plt.plot(FeatSelect1[:,0],FeatSelect1[:,1],'o--',)\n",
    "plt.plot(FeatSelect2[:,0],FeatSelect2[:,1],'o--',)\n",
    "plt.plot(FeatSelect3[:,0],FeatSelect3[:,1],'o--',)\n",
    "\n",
    "plt.xticks(FeatSelect1[:,0])\n",
    "plt.legend([\"Top Best\",\"PCA\",\"Var Threshold\"], loc='lower center')\n",
    "plt.title(\"Fig 3a - Performance Score of Various Feature Selection Methods\")\n",
    "plt.xlabel(\"Number of selected features\")\n",
    "plt.ylabel(\"Performance Score\")\n",
    "plt.show()"
   ]
  },
  {
   "cell_type": "code",
   "execution_count": 8,
   "metadata": {},
   "outputs": [
    {
     "name": "stdout",
     "output_type": "stream",
     "text": [
      "[[ 80.        0.84518]\n",
      " [ 90.        0.85355]\n",
      " [100.        0.86192]\n",
      " [110.        0.88702]]\n",
      "[[ 80.        0.61924]\n",
      " [ 90.        0.69874]\n",
      " [100.        0.66108]\n",
      " [110.        0.64435]]\n",
      "[[ 80.        0.86192]\n",
      " [ 88.        0.82845]\n",
      " [ 95.        0.8661 ]\n",
      " [110.        0.85355]]\n"
     ]
    }
   ],
   "source": [
    "# Actual Kaggle scores obtained for testing previously evaluated methods\n",
    "featNumbersKaggle = [80,90,100,110]\n",
    "# Training and testing sets did not always have the same shape given the same threshold\n",
    "# We have selected values that generate X_train and X_test sets with the same number of features\n",
    "featNumbersKaggleM3 = [80,88,95,110]\n",
    "\n",
    "Method1Kaggle = np.zeros((4,2))\n",
    "Method2Kaggle = np.zeros((4,2))\n",
    "Method3Kaggle = np.zeros((4,2))\n",
    "\n",
    "Method1KaggleScores = [0.84518,0.85355,0.86192,0.88702]\n",
    "Method2KaggleScores = [0.61924,0.69874,0.66108,0.64435]\n",
    "Method3KaggleScores = [0.86192,0.82845,0.86610,0.85355]\n",
    "\n",
    "\n",
    "for i in range(4):\n",
    "    Method1Kaggle[i,0]=featNumbersKaggle[i]\n",
    "    Method1Kaggle[i,1]=Method1KaggleScores[i]\n",
    "    \n",
    "    Method2Kaggle[i,0]=featNumbersKaggle[i]\n",
    "    Method2Kaggle[i,1]=Method2KaggleScores[i]\n",
    "    \n",
    "    Method3Kaggle[i,0]=featNumbersKaggleM3[i]\n",
    "    Method3Kaggle[i,1]=Method3KaggleScores[i]\n",
    "    \n",
    "print(Method1Kaggle)\n",
    "print(Method2Kaggle)\n",
    "print(Method3Kaggle)"
   ]
  },
  {
   "cell_type": "code",
   "execution_count": 9,
   "metadata": {},
   "outputs": [
    {
     "data": {
      "image/png": "[encoded data removed]",
      "text/plain": [
       "<Figure size 432x288 with 1 Axes>"
      ]
     },
     "metadata": {
      "needs_background": "light"
     },
     "output_type": "display_data"
    }
   ],
   "source": [
    "plt.plot(Method1Kaggle[:,0],Method1Kaggle[:,1],'o--',)\n",
    "plt.plot(Method2Kaggle[:,0],Method2Kaggle[:,1],'o--',)\n",
    "plt.plot(Method3Kaggle[:,0],Method3Kaggle[:,1],'o--',)\n",
    "\n",
    "plt.legend([\"Top Best\",\"PCA\",\"Var Threshold\"], loc='center right')\n",
    "plt.title(\"Fig 4a - Kaggle Score of Various Feature Selection Methods (Public Set)\")\n",
    "plt.xlabel(\"Number of selected features\")\n",
    "plt.ylabel(\"Performance Score\")\n",
    "plt.show()"
   ]
  },
  {
   "cell_type": "code",
   "execution_count": 10,
   "metadata": {},
   "outputs": [
    {
     "name": "stdout",
     "output_type": "stream",
     "text": [
      "Removed features with variance lower than the 0.87 threshold.\n",
      "GridSearch results: {'C': 0.001, 'gamma': 1, 'kernel': 'linear'}\n",
      "Shape: (200, 86)\n",
      "Score: 0.855\n"
     ]
    }
   ],
   "source": [
    "# Selection of feature selection method and number based on results - SVC\n",
    "# This will produce our predictions with the most potential to be submitted (not highest score).\n",
    "# Variance Threshold: Selection Method 3\n",
    "X_train_final, X_test_final = featSelectVariance(X_train,X_test,0.87)\n",
    "X_train_final, X_test_final = scalingFunction(X_train_final, X_test_final)\n",
    "# The feature selection method is different so we get the shape to obtain the number of features\n",
    "best_SVC_final = gridSearch(X_train_final,y_train)\n",
    "print(\"GridSearch results:\",best_SVC_final.best_params_)\n",
    "print(\"Shape:\",X_train_final.shape)\n",
    "print(\"Score:\",best_SVC_final.score(X_train_final, y_train))\n",
    "y_pred_submitted = best_SVC_final.predict(X_test_final)\n",
    "#saveFile(y_pred_submitted,\"finalSVC.csv\")"
   ]
  },
  {
   "cell_type": "code",
   "execution_count": 11,
   "metadata": {},
   "outputs": [
    {
     "name": "stdout",
     "output_type": "stream",
     "text": [
      "training samples:  160\n",
      "testing samples:  40\n",
      "Removed features with variance lower than the 0.87 threshold.\n",
      "GridSearch results: {'C': 100, 'gamma': 0.001, 'kernel': 'rbf'}\n",
      "Shape: (160, 86)\n",
      "Score: 0.975\n"
     ]
    }
   ],
   "source": [
    "# In-Depth Evaluation of most promising combinations for SVC: \n",
    "#we need to split the data for further evaluation of our model\n",
    "X_trainSPLIT, X_testSPLIT, y_trainSPLIT, y_testSPLIT = train_test_split(X_train,y_train,test_size=0.2,random_state=0)\n",
    "\n",
    "print(\"training samples: \", len(X_trainSPLIT))\n",
    "print(\"testing samples: \", len(X_testSPLIT))\n",
    "\n",
    "new_X_train, new_X_test = featSelectVariance(X_trainSPLIT,X_testSPLIT,0.87)\n",
    "new_X_train, new_X_test = scalingFunction(new_X_train, new_X_test)\n",
    "SVC_eval = gridSearch(new_X_train,y_trainSPLIT)\n",
    "print(\"GridSearch results:\",SVC_eval.best_params_)\n",
    "print(\"Shape:\",new_X_train.shape)\n",
    "print(\"Score:\",SVC_eval.score(new_X_train, y_trainSPLIT))\n",
    "y_pred = SVC_eval.predict(new_X_test)\n",
    "#saveFile(y_pred,\"testSVC.csv\")"
   ]
  },
  {
   "cell_type": "code",
   "execution_count": 12,
   "metadata": {},
   "outputs": [
    {
     "name": "stdout",
     "output_type": "stream",
     "text": [
      "Accuracy of selected SVC Model: 0.85\n",
      "F1 Score of selected SVC Model: 0.8125\n",
      "Avg. Precision of selected SVC Model: 0.33659420289855074\n",
      "Precision of selected SVC Model: 0.7647058823529411\n",
      "Recall of selected SVC Model: 0.8666666666666667\n"
     ]
    }
   ],
   "source": [
    "# Computing Final Evaluation Metrics for selected Model\n",
    "print(\"Accuracy of selected SVC Model:\",accuracy_score(y_testSPLIT,y_pred))\n",
    "print(\"F1 Score of selected SVC Model:\",f1_score(y_testSPLIT,y_pred))\n",
    "print(\"Avg. Precision of selected SVC Model:\",average_precision_score(y_testSPLIT,y_pred))\n",
    "print(\"Precision of selected SVC Model:\",precision_score(y_testSPLIT,y_pred))\n",
    "print(\"Recall of selected SVC Model:\",recall_score(y_testSPLIT,y_pred))"
   ]
  }
 ],
 "metadata": {
  "kernelspec": {
   "display_name": "Python 3",
   "language": "python",
   "name": "python3"
  },
  "language_info": {
   "codemirror_mode": {
    "name": "ipython",
    "version": 3
   },
   "file_extension": ".py",
   "mimetype": "text/x-python",
   "name": "python",
   "nbconvert_exporter": "python",
   "pygments_lexer": "ipython3",
   "version": "3.7.4"
  }
 },
 "nbformat": 4,
 "nbformat_minor": 2
}
