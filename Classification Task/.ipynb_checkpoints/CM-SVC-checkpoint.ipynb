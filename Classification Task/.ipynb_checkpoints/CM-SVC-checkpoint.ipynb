{
 "cells": [
  {
   "cell_type": "code",
   "execution_count": 1,
   "metadata": {},
   "outputs": [],
   "source": [
    "import numpy as np\n",
    "import matplotlib.pyplot as plt\n",
    "\n",
    "from sklearn.ensemble import ExtraTreesClassifier\n",
    "from sklearn.decomposition import PCA\n",
    "from sklearn.feature_selection import VarianceThreshold\n",
    "from sklearn.model_selection import GridSearchCV\n",
    "from sklearn.model_selection import train_test_split\n",
    "from sklearn.preprocessing import StandardScaler\n",
    "from sklearn.svm import SVC\n",
    "import warnings\n",
    "# We silence warnings concerning future version updates\n",
    "warnings.simplefilter(action='ignore', category=FutureWarning)\n",
    "warnings.simplefilter(action='ignore', category=DeprecationWarning)"
   ]
  },
  {
   "cell_type": "code",
   "execution_count": 2,
   "metadata": {},
   "outputs": [],
   "source": [
    "# Load training and testing data\n",
    "X_train = np.loadtxt('X_train.csv', delimiter=',', skiprows=1)\n",
    "X_test = np.loadtxt('X_test.csv', delimiter=',', skiprows=1)\n",
    "y_train = np.loadtxt('y_train.csv', delimiter=',', skiprows=1)[:, 1]"
   ]
  },
  {
   "cell_type": "code",
   "execution_count": 8,
   "metadata": {},
   "outputs": [],
   "source": [
    "# Arrange answer in two columns. First column (with header \"Id\") is an\n",
    "# enumeration from 0 to n-1, where n is the number of test points. Second\n",
    "# column (with header \"EpiOrStroma\" is the predictions.\n",
    "def saveFile(y_pred,name):\n",
    "    test_header = \"Id,EpiOrStroma\"\n",
    "    n_points = X_test.shape[0]\n",
    "    y_pred_pp = np.ones((n_points, 2))\n",
    "    y_pred_pp[:, 0] = range(n_points)\n",
    "    y_pred_pp[:, 1] = y_pred\n",
    "    np.savetxt(name, y_pred_pp, fmt='%d', delimiter=\",\",\n",
    "               header=test_header, comments=\"\")\n",
    "\n",
    "\n",
    "# Function used to preprocess the data with the Standard Scaler\n",
    "def scalingFunction(X_train,X_test):\n",
    "    sc = StandardScaler()\n",
    "\n",
    "    X_train_scaled = sc.fit_transform(X_train)\n",
    "    X_test_scaled = sc.fit_transform(X_test)\n",
    "    return(X_train_scaled,X_test_scaled)\n",
    "\n",
    "# GridSearch function for SVC. Parameter Grid refined after testing.\n",
    "def gridSearch(trainData):\n",
    "    \n",
    "    param_grid = [\n",
    "        {'kernel' : ['linear','rbf'],\n",
    "         'gamma' :[1,0.1,0.001,0.0001],\n",
    "         'C' : [0.0001, 0.001,0.01, 0.1, 1, 10, 100, 1000]},\n",
    "    ]\n",
    "\n",
    "    svcGrid = GridSearchCV(SVC(),param_grid,refit = True)\n",
    "    best_svc = svcGrid.fit(trainData, y_train)\n",
    "    return(best_svc)"
   ]
  },
  {
   "cell_type": "code",
   "execution_count": 4,
   "metadata": {},
   "outputs": [],
   "source": [
    "# Feature Selection for most important features\n",
    "\n",
    "def featSelectERT(X_train,X_test,y_train,numberSelectedFeatures):\n",
    "    #Method 1: Extremely randomised trees\n",
    "    model = ExtraTreesClassifier()\n",
    "    model.fit(X_train,y_train)\n",
    "    # Selection and sorting of most important features.\n",
    "    feat_scores = model.feature_importances_\n",
    "    feat_indexes = np.argsort(feat_scores)\n",
    "    top_indexes = feat_indexes[:numberSelectedFeatures]\n",
    "    print(\"Selected\",numberSelectedFeatures,\"most important features with Extremely Randomised Trees.\")\n",
    "    # Creating new X_train and X_test sets with selected features\n",
    "    X_train_M1 = np.empty([len(X_train),len(top_indexes)])\n",
    "    X_test_M1 = np.empty([len(X_test),len(top_indexes)])\n",
    "    counter = 0\n",
    "    for index in top_indexes:\n",
    "        X_train_M1[:,counter] = X_train[:,index]\n",
    "        X_test_M1[:,counter] = X_test[:,index]\n",
    "        counter += 1\n",
    "    return(X_train_M1,X_test_M1)\n",
    "\n",
    "def featReducPCA(X_train,X_test,numberSelectedFeatures):\n",
    "    #Method 2: PCA reduction\n",
    "    pca = PCA(n_components=numberSelectedFeatures)\n",
    "    X_train_M2 = pca.fit_transform(X_train)\n",
    "    X_test_M2 = pca.fit_transform(X_test)\n",
    "    print(\"Selected\",numberSelectedFeatures,\"most important features with PCA.\")\n",
    "    return(X_train_M2,X_test_M2)\n",
    "\n",
    "def featSelectVariance(X_train,X_test,varThreshold):\n",
    "    #Method 3: Removing features with a variance lower than the given threshold\n",
    "    sel = VarianceThreshold(threshold=(varThreshold * (1 - varThreshold)))\n",
    "    X_train_M3 = sel.fit_transform(X_train)\n",
    "    X_test_M3 = sel.fit_transform(X_test)\n",
    "    print(\"Removed features with variance lower than the\",varThreshold,\"threshold.\")\n",
    "    return(X_train_M3,X_test_M3)"
   ]
  },
  {
   "cell_type": "code",
   "execution_count": 5,
   "metadata": {},
   "outputs": [
    {
     "name": "stdout",
     "output_type": "stream",
     "text": [
      "Parameters currently in use:\n",
      "{'C': 1.0, 'cache_size': 200, 'class_weight': None, 'coef0': 0.0, 'decision_function_shape': 'ovr', 'degree': 3, 'gamma': 'auto_deprecated', 'kernel': 'rbf', 'max_iter': -1, 'probability': False, 'random_state': None, 'shrinking': True, 'tol': 0.001, 'verbose': False}\n"
     ]
    }
   ],
   "source": [
    "# SVC Classifier Implementation\n",
    "svc = SVC().fit(X_train,y_train)\n",
    "print('Parameters currently in use:')\n",
    "print(svc.get_params())"
   ]
  },
  {
   "cell_type": "code",
   "execution_count": 33,
   "metadata": {},
   "outputs": [
    {
     "name": "stdout",
     "output_type": "stream",
     "text": [
      "Selected 80 most important features with Extremely Randomised Trees.\n",
      "Selected 80 most important features with PCA.\n",
      "Selected 82 most important features with Extremely Randomised Trees.\n",
      "Selected 82 most important features with PCA.\n",
      "Selected 85 most important features with Extremely Randomised Trees.\n",
      "Selected 85 most important features with PCA.\n",
      "Selected 88 most important features with Extremely Randomised Trees.\n",
      "Selected 88 most important features with PCA.\n",
      "Selected 90 most important features with Extremely Randomised Trees.\n",
      "Selected 90 most important features with PCA.\n",
      "Selected 92 most important features with Extremely Randomised Trees.\n",
      "Selected 92 most important features with PCA.\n",
      "Selected 95 most important features with Extremely Randomised Trees.\n",
      "Selected 95 most important features with PCA.\n",
      "Selected 98 most important features with Extremely Randomised Trees.\n",
      "Selected 98 most important features with PCA.\n",
      "Selected 100 most important features with Extremely Randomised Trees.\n",
      "Selected 100 most important features with PCA.\n",
      "Removed features with variance lower than the 0.5 threshold.\n",
      "Removed features with variance lower than the 0.81 threshold.\n",
      "Removed features with variance lower than the 0.84 threshold.\n",
      "Removed features with variance lower than the 0.92 threshold.\n",
      "Removed features with variance lower than the 0.95 threshold.\n",
      "Removed features with variance lower than the 0.96 threshold.\n",
      "Removed features with variance lower than the 0.975 threshold.\n",
      "Removed features with variance lower than the 0.9895 threshold.\n",
      "Removed features with variance lower than the 0.991 threshold.\n",
      "[[ 80.      0.98 ]\n",
      " [ 82.      0.975]\n",
      " [ 85.      0.985]\n",
      " [ 88.      0.92 ]\n",
      " [ 90.      0.98 ]\n",
      " [ 92.      0.93 ]\n",
      " [ 95.      0.995]\n",
      " [ 98.      0.93 ]\n",
      " [100.      0.935]]\n",
      "[[ 80.      1.   ]\n",
      " [ 82.      1.   ]\n",
      " [ 85.      1.   ]\n",
      " [ 88.      0.97 ]\n",
      " [ 90.      0.98 ]\n",
      " [ 92.      0.94 ]\n",
      " [ 95.      0.955]\n",
      " [ 98.      0.965]\n",
      " [100.      0.96 ]]\n",
      "[[ 80.      0.87 ]\n",
      " [ 82.      0.97 ]\n",
      " [ 85.      0.97 ]\n",
      " [ 88.      0.97 ]\n",
      " [ 90.      0.98 ]\n",
      " [ 92.      0.98 ]\n",
      " [ 95.      0.865]\n",
      " [ 98.      0.86 ]\n",
      " [100.      0.86 ]]\n"
     ]
    }
   ],
   "source": [
    "# Evaluating our model with different feature selection methods, selecting a different number of features.\n",
    "# We have selected precise numbers of features to match the number selected by threshold values\n",
    "featNumbers = [80,82,85,88,90,92,95,98,100]\n",
    "threshHoldValues = [0.5,0.81,0.84,0.92,0.95,0.96,0.975,0.9895,0.991]\n",
    "\n",
    "FeatSelect1=np.zeros((len(featNumbers),2))\n",
    "FeatSelect2=np.zeros((len(featNumbers),2))\n",
    "FeatSelect3=np.zeros((len(featNumbers),2))\n",
    "\n",
    "# We now build our SVC model with all feature selection methods, for various number of features.\n",
    "# Running GridSearch on all combinations should only take a minute or so.\n",
    "counter = 0\n",
    "for featNumb in featNumbers:\n",
    "    # Selection Method 1\n",
    "    FeatSelect1[counter,0] = featNumb\n",
    "    X_train_M1, X_test_M1 = featSelectERT(X_train,X_test,y_train,featNumb)\n",
    "    X_train_M1, X_test_M1 = scalingFunction(X_train_M1, X_test_M1)\n",
    "    best_SVC_M1 = gridSearch(X_train_M1)\n",
    "    FeatSelect1[counter,1] = best_SVC_M1.score(X_train_M1, y_train)\n",
    "    \n",
    "    # Selection Method 2\n",
    "    FeatSelect2[counter,0] = featNumb\n",
    "    X_train_M2, X_test_M2 = featReducPCA(X_train,X_test,featNumb)\n",
    "    X_train_M2, X_test_M2 = scalingFunction(X_train_M2, X_test_M2)\n",
    "    best_SVC_M2 = gridSearch(X_train_M2)\n",
    "    FeatSelect2[counter,1] = best_SVC_M2.score(X_train_M2, y_train)\n",
    "    \n",
    "    counter += 1\n",
    "\n",
    "\n",
    "counter = 0\n",
    "for THValue in threshHoldValues:\n",
    "    # Selection Method 3\n",
    "    X_train_M3, X_test_M3 = featSelectVariance(X_train,X_test,THValue)\n",
    "    X_train_M3, X_test_M3 = scalingFunction(X_train_M3, X_test_M3)\n",
    "    # The feature selection method is different so we get the shape to obtain the number of features\n",
    "    FeatSelect3[counter,0] = X_train_M3.shape[1]\n",
    "    best_SVC_M3 = gridSearch(X_train_M3)\n",
    "    FeatSelect3[counter,1] = best_SVC_M3.score(X_train_M3, y_train)\n",
    "    \n",
    "    counter += 1\n",
    "\n",
    "print(FeatSelect1)\n",
    "print(FeatSelect2)\n",
    "print(FeatSelect3)"
   ]
  },
  {
   "cell_type": "code",
   "execution_count": 34,
   "metadata": {},
   "outputs": [
    {
     "data": {
      "image/png": "[encoded data removed]",
      "text/plain": [
       "<Figure size 432x288 with 1 Axes>"
      ]
     },
     "metadata": {
      "needs_background": "light"
     },
     "output_type": "display_data"
    }
   ],
   "source": [
    "plt.plot(FeatSelect1[:,0],FeatSelect1[:,1],'o--',)\n",
    "plt.plot(FeatSelect2[:,0],FeatSelect2[:,1],'o--',)\n",
    "plt.plot(FeatSelect3[:,0],FeatSelect3[:,1],'o--',)\n",
    "\n",
    "plt.xticks(FeatSelect1[:,0])\n",
    "plt.legend([\"Top Best\",\"PCA\",\"Var Threshold\"], loc='upper right')\n",
    "plt.show()"
   ]
  },
  {
   "cell_type": "code",
   "execution_count": 45,
   "metadata": {},
   "outputs": [
    {
     "name": "stdout",
     "output_type": "stream",
     "text": [
      "Selected 80 most important features with PCA.\n",
      "1.0\n"
     ]
    }
   ],
   "source": [
    "X_train_M3, X_test_M3 = featSelectVariance(X_train,X_test,THValue)\n",
    "X_train_M3, X_test_M3 = scalingFunction(X_train_M3, X_test_M3)\n",
    "best_SVC_M3 = gridSearch(X_train_M3)\n",
    "print(X_train_M3.shape)\n",
    "\n",
    "#y_pred = best_SVC_M3.predict(X_test_M3)\n",
    "#saveFile(y_pred,'SVCPCA.csv')"
   ]
  },
  {
   "cell_type": "code",
   "execution_count": 43,
   "metadata": {},
   "outputs": [
    {
     "name": "stdout",
     "output_type": "stream",
     "text": [
      "[[ 80.        0.84518]\n",
      " [ 90.        0.85355]\n",
      " [100.        0.86192]\n",
      " [110.        0.88702]]\n"
     ]
    }
   ],
   "source": [
    "# Actual Kaggle scores obtained for testing previously evaluated methods\n",
    "featNumbersKaggle = [80,90,100,110]\n",
    "\n",
    "Method1Kaggle = np.zeros((4,2))\n",
    "Method2Kaggle = np.zeros((4,2))\n",
    "Method3Kaggle = np.zeros((4,2))\n",
    "\n",
    "Method1KaggleScores = [0.84518,0.85355,0.86192,0.88702]\n",
    "Method2KaggleScores = [,0.69874,0.66108,0.64435]\n",
    "Method3KaggleScores = []\n",
    "\n",
    "\n",
    "for i in range(4):\n",
    "    Method1Kaggle[i,0]=featNumbersKaggle[i]\n",
    "    Method1Kaggle[i,1]=Method1KaggleScores[i]\n",
    "    \n",
    "    Method2Kaggle[i,0]=featNumbersKaggle[i]\n",
    "    Method2Kaggle[i,1]=Method2KaggleScores[i]\n",
    "    \n",
    "    Method3Kaggle[i,0]=featNumbersKaggle[i]\n",
    "    Method3Kaggle[i,1]=Method3KaggleScores[i]\n",
    "    \n",
    "print(Method1Kaggle)\n",
    "print(Method2Kaggle)\n",
    "print(Method3Kaggle)"
   ]
  },
  {
   "cell_type": "code",
   "execution_count": 13,
   "metadata": {},
   "outputs": [
    {
     "name": "stdout",
     "output_type": "stream",
     "text": [
      "# training samples:  160\n",
      "# testing samples:  40\n"
     ]
    }
   ],
   "source": [
    "# Evaluation: we need to split the data for further evaluation of our models\n",
    "X_trainSPLIT, X_testSPLIT, y_trainSPLIT, y_testSPLIT = train_test_split(X_train,y_train,test_size=0.2,random_state=0)\n",
    "\n",
    "print(\"# training samples: \", len(X_trainSPLIT))\n",
    "print(\"# testing samples: \", len(X_testSPLIT))\n",
    "\n",
    "\n",
    "#print(svc.accuracy_score())"
   ]
  },
  {
   "cell_type": "code",
   "execution_count": null,
   "metadata": {},
   "outputs": [],
   "source": []
  }
 ],
 "metadata": {
  "kernelspec": {
   "display_name": "Python 3",
   "language": "python",
   "name": "python3"
  },
  "language_info": {
   "codemirror_mode": {
    "name": "ipython",
    "version": 3
   },
   "file_extension": ".py",
   "mimetype": "text/x-python",
   "name": "python",
   "nbconvert_exporter": "python",
   "pygments_lexer": "ipython3",
   "version": "3.7.4"
  }
 },
 "nbformat": 4,
 "nbformat_minor": 2
}
