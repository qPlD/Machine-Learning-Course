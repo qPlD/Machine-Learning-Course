{
 "cells": [
  {
   "cell_type": "code",
   "execution_count": 162,
   "metadata": {},
   "outputs": [
    {
     "name": "stdout",
     "output_type": "stream",
     "text": [
      "(168, 6)\n",
      "(41, 6)\n",
      "(168,)\n"
     ]
    }
   ],
   "source": [
    "# This Python 3 environment comes with many helpful analytics libraries installed\n",
    "# It is defined by the kaggle/python docker image: https://github.com/kaggle/docker-python\n",
    "# For example, here's several helpful packages to load in \n",
    "\n",
    "import numpy as np # linear algebra\n",
    "import pandas as pd # data processing, CSV file I/O (e.g. pd.read_csv)\n",
    "from sklearn import linear_model, metrics\n",
    "from sklearn.metrics import (mean_squared_error, r2_score, mean_absolute_error, \n",
    "mean_squared_log_error, explained_variance_score, max_error)\n",
    "from sklearn.model_selection import LeaveOneOut, cross_val_score, cross_val_predict\n",
    "import matplotlib.pyplot as plt\n",
    "import os\n",
    "from sklearn.model_selection import train_test_split\n",
    "from sklearn.neighbors import KNeighborsClassifier\n",
    "from sklearn.model_selection import cross_val_score, cross_val_predict\n",
    "from sklearn.svm import LinearSVR\n",
    "from sklearn.datasets import make_regression\n",
    "from sklearn.preprocessing import StandardScaler\n",
    "from sklearn.pipeline import Pipeline\n",
    "from sklearn.model_selection import GridSearchCV\n",
    "\n",
    "# Load training and testing data\n",
    "X_train = np.loadtxt(\"X_train.csv\", delimiter=',', skiprows=1)\n",
    "X_test = np.loadtxt(\"X_test.csv\", delimiter=',', skiprows=1)\n",
    "y_train = np.loadtxt(\"y_train.csv\", delimiter=',', skiprows=1)[:,1]\n",
    "\n",
    "print(X_train.shape)\n",
    "print(X_test.shape)\n",
    "print(y_train.shape)"
   ]
  },
  {
   "cell_type": "code",
   "execution_count": 173,
   "metadata": {},
   "outputs": [],
   "source": [
    "# Arrange answer in two columns. First column (with header \"Id\") is an\n",
    "# enumeration from 0 to n-1, where n is the number of test points. Second\n",
    "# column (with header \"EpiOrStroma\" is the predictions.\n",
    "def saveFile(y_pred,name):\n",
    "    test_header = \"Id,PRP\"\n",
    "    n_points = X_test.shape[0]\n",
    "    y_pred_pp = np.ones((n_points, 2))\n",
    "    y_pred_pp[:, 0] = range(n_points)\n",
    "    y_pred_pp[:, 1] = y_pred\n",
    "    np.savetxt(name, y_pred_pp, fmt='%d,%f', delimiter=\",\",\n",
    "               header=test_header, comments=\"\")\n"
   ]
  },
  {
   "cell_type": "code",
   "execution_count": 164,
   "metadata": {},
   "outputs": [
    {
     "name": "stdout",
     "output_type": "stream",
     "text": [
      "(117, 6)\n",
      "(51, 6)\n",
      "(117,)\n",
      "(51,)\n",
      "(117, 6)\n",
      "(51, 6)\n"
     ]
    }
   ],
   "source": [
    "X_train1, X_test1, y_train1, y_test1 = train_test_split(X_train, y_train, test_size=0.3, random_state=42)\n",
    "scaler = StandardScaler()\n",
    "\n",
    "#scaling \n",
    "X_train1_scaled = scaler.fit_transform(X_train1)\n",
    "X_test1_scaled = scaler.fit_transform(X_test1)\n",
    "\n",
    "print(X_train1.shape)\n",
    "print(X_test1.shape)\n",
    "print(y_train1.shape)\n",
    "print(y_test1.shape)\n",
    "\n",
    "print(X_train1_scaled.shape)\n",
    "print(X_test1_scaled.shape)"
   ]
  },
  {
   "cell_type": "code",
   "execution_count": 190,
   "metadata": {},
   "outputs": [],
   "source": [
    "# Defining basic untuned regression models\n",
    "\n",
    "def basicLinearSVR(X_train1, X_test1, y_train1, y_test1):\n",
    "    svrReg = LinearSVR(max_iter = 9999)\n",
    "    svrReg.fit(X_train1, y_train1)\n",
    "    y_pred = svrReg.predict(X_test1)\n",
    "    print(\"R2 score: \" + str(svrReg.score(X_test1, y_test1)))\n",
    "    print(\"Explained variance: \" + str(explained_variance_score(y_test1, y_pred)))\n",
    "    print(\"Max error: \" + str(max_error(y_test1, y_pred)))\n",
    "    print(\"Mean absolute error: \" + str(mean_absolute_error(y_test1, y_pred)))\n",
    "    print(\"Mean squared error: \" + str(mean_squared_error(y_test1, y_pred)))\n",
    "    return y_pred"
   ]
  },
  {
   "cell_type": "code",
   "execution_count": 191,
   "metadata": {},
   "outputs": [
    {
     "name": "stdout",
     "output_type": "stream",
     "text": [
      "R2 score: 0.673379439257437\n",
      "Explained variance: 0.7024012709861599\n",
      "Max error: 238.45169780453432\n",
      "Mean absolute error: 32.49406435203634\n",
      "Mean squared error: 4057.944646115132\n"
     ]
    },
    {
     "data": {
      "text/plain": [
       "array([177.84773546,  25.7940557 ,  97.75169166,  36.29708147,\n",
       "        14.30892991,  11.39655658,  12.57735637,  14.51458585,\n",
       "        67.36775809,  22.74726369,  50.07263377,  67.42602536,\n",
       "        55.18276806,  20.80022228,  30.77345661,  39.13318712,\n",
       "       111.77767581,  44.80792699, 250.75868996,  41.78162852,\n",
       "         7.788854  ,  66.12466794,  66.01452546,  19.48883275,\n",
       "        23.95000413,  95.57676713,   0.28963482,  57.80624973,\n",
       "       226.5483022 ,  63.38306595,  20.80022228,  19.54727247,\n",
       "        52.97857273,  86.31840841,  29.78950765, 188.97164606,\n",
       "       177.75674457,  36.09560457,  67.01519158,  85.87628825,\n",
       "        23.57272307,  47.02638722,  96.76513231,  22.68506095,\n",
       "       123.16331633,  47.8597801 ,   7.9110046 ,  26.30132087,\n",
       "       281.85581982,  17.42700323,  -2.22544198])"
      ]
     },
     "execution_count": 191,
     "metadata": {},
     "output_type": "execute_result"
    }
   ],
   "source": [
    "basicLinearSVR(X_train1_scaled, X_test1_scaled, y_train1, y_test1)"
   ]
  },
  {
   "cell_type": "code",
   "execution_count": 178,
   "metadata": {},
   "outputs": [
    {
     "name": "stdout",
     "output_type": "stream",
     "text": [
      "Parameters currently in use:\n",
      "\n",
      "{'C': 1.0, 'dual': True, 'epsilon': 0.0, 'fit_intercept': True, 'intercept_scaling': 1.0, 'loss': 'epsilon_insensitive', 'max_iter': 1000, 'random_state': None, 'tol': 0.0001, 'verbose': 0}\n"
     ]
    }
   ],
   "source": [
    "# Linear Support Vector Regression - Further Tuning with Grid Search\n",
    "lsvr = LinearSVR()\n",
    "# Look at parameters used by our regression\n",
    "print('Parameters currently in use:\\n')\n",
    "print(lsvr.get_params())\n",
    "\n",
    "#Creating the Random Grid\n",
    "#pipe = Pipeline([('regression model' , LinearSVR())])\n",
    "\n",
    "param_grid = [\n",
    "    {#'regression' : [LinearSVR()],\n",
    "    'epsilon' : [0,75, 0.5, 0.25, 0],\n",
    "    'tol' : [1e-4, 2e-4],\n",
    "     'C' : [0.5, 1.0, 1.5, 2.0],\n",
    "    'fit_intercept' : [True, False],\n",
    "    #'intercept_scaling' : [0, 0.5, 1, 1.5, 2],\n",
    "    #'dual' : [True, False],\n",
    "    'verbose' : [0, 1],\n",
    "    'max_iter' : [500, 1000, 1500]}\n",
    "]\n"
   ]
  },
  {
   "cell_type": "code",
   "execution_count": 168,
   "metadata": {},
   "outputs": [
    {
     "name": "stdout",
     "output_type": "stream",
     "text": [
      "Fitting 10 folds for each of 480 candidates, totalling 4800 fits\n"
     ]
    },
    {
     "name": "stderr",
     "output_type": "stream",
     "text": [
      "[Parallel(n_jobs=-1)]: Using backend LokyBackend with 8 concurrent workers.\n",
      "[Parallel(n_jobs=-1)]: Done 1564 tasks      | elapsed:    0.7s\n"
     ]
    },
    {
     "name": "stdout",
     "output_type": "stream",
     "text": [
      "[LibLinear]"
     ]
    },
    {
     "name": "stderr",
     "output_type": "stream",
     "text": [
      "[Parallel(n_jobs=-1)]: Done 4800 out of 4800 | elapsed:    1.2s finished\n",
      "/home/nicholas/anaconda3/lib/python3.7/site-packages/sklearn/model_selection/_search.py:813: DeprecationWarning: The default of the `iid` parameter will change from True to False in version 0.22 and will be removed in 0.24. This will change numeric results when test-set sizes are unequal.\n",
      "  DeprecationWarning)\n"
     ]
    },
    {
     "data": {
      "text/plain": [
       "{'C': 2.0,\n",
       " 'epsilon': 0.5,\n",
       " 'fit_intercept': True,\n",
       " 'max_iter': 500,\n",
       " 'tol': 0.0001,\n",
       " 'verbose': 1}"
      ]
     },
     "execution_count": 168,
     "metadata": {},
     "output_type": "execute_result"
    }
   ],
   "source": [
    "#fit the model with the parameter\n",
    "reg = GridSearchCV(LinearSVR(), param_grid = param_grid, cv = 10, verbose=True, n_jobs=-1)\n",
    "# Fit the random search model\n",
    "best_reg= reg.fit(X_train1_scaled, y_train1)\n",
    "\n",
    "\n",
    "best_reg.best_params_"
   ]
  },
  {
   "cell_type": "code",
   "execution_count": 169,
   "metadata": {},
   "outputs": [],
   "source": [
    "# tuned regression models\n",
    "\n",
    "def tunedLinearSVR(X_train1, X_test1, y_train1, y_test1):\n",
    "    svrReg = LinearSVR(C=2.0, epsilon= 0.5, fit_intercept = True, max_iter = 500, tol = 0.0001, verbose = 1 )\n",
    "    svrReg.fit(X_train1, y_train1)\n",
    "    y_pred = svrReg.predict(X_test1)\n",
    "    print(\"R2 score: \" + str(svrReg.score(X_test1, y_test1)))\n",
    "    print(\"Explained variance: \" + str(explained_variance_score(y_test1, y_pred)))\n",
    "    print(\"Max error: \" + str(max_error(y_test1, y_pred)))\n",
    "    print(\"Mean absolute error: \" + str(mean_absolute_error(y_test1, y_pred)))\n",
    "    print(\"Mean squared error: \" + str(mean_squared_error(y_test1, y_pred)))\n",
    "    return y_pred"
   ]
  },
  {
   "cell_type": "code",
   "execution_count": 171,
   "metadata": {},
   "outputs": [
    {
     "name": "stdout",
     "output_type": "stream",
     "text": [
      "[LibLinear]R2 score: 0.8152736106552033\n",
      "Explained variance: 0.8152967088025329\n",
      "Max error: 139.16187753786505\n",
      "Mean absolute error: 32.55002427152246\n",
      "Mean squared error: 2295.046769051159\n"
     ]
    }
   ],
   "source": [
    "y_pred = tunedLinearSVR(X_train1_scaled, X_test1_scaled, y_train1, y_test1)\n"
   ]
  },
  {
   "cell_type": "code",
   "execution_count": 194,
   "metadata": {},
   "outputs": [
    {
     "name": "stdout",
     "output_type": "stream",
     "text": [
      "[LibLinear]"
     ]
    },
    {
     "name": "stderr",
     "output_type": "stream",
     "text": [
      "/home/nicholas/anaconda3/lib/python3.7/site-packages/sklearn/svm/base.py:929: ConvergenceWarning: Liblinear failed to converge, increase the number of iterations.\n",
      "  \"the number of iterations.\", ConvergenceWarning)\n"
     ]
    }
   ],
   "source": [
    "svrReg = LinearSVR(C=2.0, epsilon= 0.5, fit_intercept = True, max_iter = 5000, tol = 0.0001, verbose = 1 )\n",
    "svrReg.fit(X_train, y_train)\n",
    "y_pred = svrReg.predict(X_test)\n",
    "saveFile(y_pred,'svr_tuned_scaled.csv')"
   ]
  },
  {
   "cell_type": "code",
   "execution_count": null,
   "metadata": {},
   "outputs": [],
   "source": []
  }
 ],
 "metadata": {
  "kernelspec": {
   "display_name": "Python 3",
   "language": "python",
   "name": "python3"
  },
  "language_info": {
   "codemirror_mode": {
    "name": "ipython",
    "version": 3
   },
   "file_extension": ".py",
   "mimetype": "text/x-python",
   "name": "python",
   "nbconvert_exporter": "python",
   "pygments_lexer": "ipython3",
   "version": "3.7.4"
  }
 },
 "nbformat": 4,
 "nbformat_minor": 2
}
