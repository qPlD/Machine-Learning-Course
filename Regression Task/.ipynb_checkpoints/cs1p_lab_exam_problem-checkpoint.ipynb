{
 "cells": [
  {
   "cell_type": "markdown",
   "metadata": {},
   "source": [
    "## CS1P Lab Exam 1 \n",
    "### Practice problem"
   ]
  },
  {
   "cell_type": "markdown",
   "metadata": {},
   "source": [
    "<div class=\"alert alert-box alert-danger\">\n",
    "    \n",
    "You must not import *any* libraries in this code except those already imported for you. \n",
    "You may only use concepts and programming constructs from the CS1P course.\n",
    "\n",
    "</div>"
   ]
  },
  {
   "cell_type": "code",
   "execution_count": 93,
   "metadata": {},
   "outputs": [],
   "source": [
    "from show_line import show_line, show_many_lines\n",
    "import math, random # only permitted imports"
   ]
  },
  {
   "cell_type": "markdown",
   "metadata": {},
   "source": [
    "## Problem\n",
    "\n",
    "You are asked to make predictions about the weather. You have data recorded as a CSV file. You are asked to load the data, and create a model that will make simple predictions. In this case, you will be asked to fit a line to a collection of measurements.\n",
    "\n",
    "\n",
    "**Marks are only shown to show how the actual exam will be broken down for marking; there are no marks for the practice problem.**"
   ]
  },
  {
   "cell_type": "markdown",
   "metadata": {},
   "source": [
    "## 1. Load the data [12 marks]\n",
    "\n",
    "The data you will load is a measurement of environmental data recorded daily over several months in New York. The data you have is formatted as follows:"
   ]
  },
  {
   "cell_type": "markdown",
   "metadata": {},
   "source": [
    "       day,temp_f\n",
    "    \n",
    "        \n",
    "That is,\n",
    "* each line is a comma-separated pair with a day number and a daily temperature in Farenheit. \n",
    "* All values are positive numbers. \n",
    "* There may be any number of spaces at the start or end of a line, or around delimiters. \n",
    "    \n",
    "The data is in a file `data/ny_data_basic.txt`. There are exactly 80 pairs of measurements in this file."
   ]
  },
  {
   "cell_type": "markdown",
   "metadata": {},
   "source": [
    "You must define two functions:\n",
    "* `parse_line(s)` must parse a string representing *one line* of the file and return the data for that line (i.e. a day number and a temperature).\n",
    "* `load_data(fname)` must take a filename and return all of the data loaded from `fname`.\n",
    "\n",
    "Temperatures should be converted from Farenheit to Celcius using the formula: deg_c = 5/9 * (deg_f-32)\n",
    "\n"
   ]
  },
  {
   "cell_type": "code",
   "execution_count": 124,
   "metadata": {},
   "outputs": [],
   "source": [
    "## Your code here\n"
   ]
  },
  {
   "cell_type": "code",
   "execution_count": 125,
   "metadata": {},
   "outputs": [],
   "source": [
    "# load the data file\n",
    "data = load_data('data/ny_data_basic.txt')"
   ]
  },
  {
   "cell_type": "markdown",
   "metadata": {},
   "source": [
    "## 1.T: Validate the data loading [8 marks]\n",
    "\n",
    "Write tests that will validate that this code works correctly using `assert`. You should, in particular, test `parse_line`. You may assume that the data will always be in the format specified above."
   ]
  },
  {
   "cell_type": "code",
   "execution_count": 126,
   "metadata": {},
   "outputs": [],
   "source": [
    "assert \"parse_line\" in globals(), \"You did not define parse_line\"\n",
    "assert \"load_data\" in globals(), \"You did not define load_data\"\n",
    "\n",
    "## Your tests here\n"
   ]
  },
  {
   "cell_type": "markdown",
   "metadata": {},
   "source": [
    "## 2. Fit a line [10 marks]\n",
    "\n",
    "You need to fit a straight line to this data, i.e. find the best straight line that comes close to these pairs of values. \n",
    "\n",
    "The equation of a straight line is: $$y=mx+c$$\n",
    "\n",
    "To fit a line to data, we need two things: \n",
    "1. a function to measure how bad a proposed line fit -- that is the total error for some values for m and c -- is to some data consisting of x,y measurements;\n",
    "1. a procedure for incrementally adjusting m and c so that it is a better fit to some data.\n",
    "\n",
    "### Error\n",
    "The badness of a fit (or *error*) for a choice of `m` and `c` can be measured for any specific data point `x, y` and computing: `error = (y - m * x + c)**2` and the overall error can be computed by summing this across all data points.\n",
    "\n",
    "### Adjustment\n",
    "To adjust the fit, implement the following procedure:\n",
    "* randomly guess an initial value for m and c\n",
    "* then, repeat N times\n",
    "    * adjust m and c by a small random amount\n",
    "    * compute the error with this adjusted guess\n",
    "    * if the result is better (error is smaller)\n",
    "        * make the new adjusted m,c the current best guess \n",
    "        * otherwise, reject (i.e. undo) the small random change to m and c\n",
    "\n",
    "An initial random guess for m and c can be produced using `random.uniform(a,b)` which generates a random number between `a` and `b`.  The function `random.gauss(x, s)` returns a random number close to `x` whose range is determined by `s` -- larger `s` makes bigger \"jumps\"."
   ]
  },
  {
   "cell_type": "markdown",
   "metadata": {},
   "source": [
    "* Assume that `m` must be between [-10, 10] and `c` must be between [-100, 100]\n",
    "* Assume that you will adjust estimates of `m` by 0.05 and `c` by 0.5 on each guess\n",
    "    \n",
    "Write a function `fit_line(data, N=10000)` which will fit a line to data, in the format returned by `load_data()`, and return `m` and `c` using `N` update steps. You may wish to break this down into simpler functions.  If your function works, the line fitting error should go down as N increases.\n",
    "\n",
    "**To make sure your results are repeatable, call `random.seed(2019)` at the very start of your `fit_line` function.**\n",
    "\n"
   ]
  },
  {
   "cell_type": "code",
   "execution_count": 127,
   "metadata": {},
   "outputs": [],
   "source": [
    "## Your code here\n"
   ]
  },
  {
   "cell_type": "code",
   "execution_count": 128,
   "metadata": {},
   "outputs": [],
   "source": [
    "# show the line fit perfomance\n",
    "m,c = fit_line(data, N=10_000)\n",
    "show_line(data, m, c) # this will show your fit"
   ]
  },
  {
   "cell_type": "markdown",
   "metadata": {},
   "source": [
    "## 2.T Validate the line fitting [5 marks]\n",
    "\n",
    " Write tests to validate the functions you have written. Test *all* of the functions you implement!"
   ]
  },
  {
   "cell_type": "code",
   "execution_count": 129,
   "metadata": {},
   "outputs": [],
   "source": [
    "## Your tests here\n"
   ]
  },
  {
   "cell_type": "markdown",
   "metadata": {},
   "source": [
    "## 3. Line fitting variant [8 marks]\n",
    "Write a function `partial_fits(data, N)` which implements the following algorithm. You must implement the following algorithm carefully:\n",
    "\n",
    "* For `i` ranging from 0 up to the number of data points\n",
    "    * Take the first `i` data points *only*;\n",
    "    * Fit a line to those first `i` points using the `fit_line` function you defined above.\n",
    "    * Record the m and c for the line fit to *that subset* in a list\n",
    "* Return a list of *all* n fits, i.e. one [m,c] pair for each subset of the data."
   ]
  },
  {
   "cell_type": "code",
   "execution_count": 130,
   "metadata": {},
   "outputs": [],
   "source": [
    "## Your code here\n"
   ]
  },
  {
   "cell_type": "markdown",
   "metadata": {},
   "source": [
    "## 3.T Test the line fitting variant [3 marks]"
   ]
  },
  {
   "cell_type": "code",
   "execution_count": 131,
   "metadata": {},
   "outputs": [],
   "source": [
    "## Your tests here\n"
   ]
  },
  {
   "cell_type": "markdown",
   "metadata": {},
   "source": [
    "## 4. Apply line fitting  [4 marks]\n",
    "Use your `partial_fit` function on the data you loaded in Part 1. The pre-defined function `show_many_lines(data, fits, ranges)` takes two lists and plots a graph given:\n",
    "* `fits` a list of m,c pairs representing a line fit\n",
    "* `ranges` a list of [start, end] ranges representing indices of data that correspond to those fits (i.e. the indices representing the subsets of data used to compute those fits).\n",
    "\n",
    "You should plot a graph that looks like below:\n",
    "<img src=\"partial_fit.png\">"
   ]
  },
  {
   "cell_type": "code",
   "execution_count": 132,
   "metadata": {},
   "outputs": [],
   "source": [
    "## Your code here\n"
   ]
  }
 ],
 "metadata": {
  "kernelspec": {
   "display_name": "Python 3",
   "language": "python",
   "name": "python3"
  },
  "language_info": {
   "codemirror_mode": {
    "name": "ipython",
    "version": 3
   },
   "file_extension": ".py",
   "mimetype": "text/x-python",
   "name": "python",
   "nbconvert_exporter": "python",
   "pygments_lexer": "ipython3",
   "version": "3.7.4"
  },
  "varInspector": {
   "cols": {
    "lenName": 16,
    "lenType": 16,
    "lenVar": 40
   },
   "kernels_config": {
    "python": {
     "delete_cmd_postfix": "",
     "delete_cmd_prefix": "del ",
     "library": "var_list.py",
     "varRefreshCmd": "print(var_dic_list())"
    },
    "r": {
     "delete_cmd_postfix": ") ",
     "delete_cmd_prefix": "rm(",
     "library": "var_list.r",
     "varRefreshCmd": "cat(var_dic_list()) "
    }
   },
   "types_to_exclude": [
    "module",
    "function",
    "builtin_function_or_method",
    "instance",
    "_Feature"
   ],
   "window_display": false
  }
 },
 "nbformat": 4,
 "nbformat_minor": 2
}
